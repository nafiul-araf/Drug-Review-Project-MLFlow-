{
 "cells": [
  {
   "cell_type": "code",
   "execution_count": 1,
   "id": "86db5f71",
   "metadata": {},
   "outputs": [],
   "source": [
    "import os\n",
    "import pandas as pd"
   ]
  },
  {
   "cell_type": "code",
   "execution_count": 3,
   "id": "6cac78c9",
   "metadata": {},
   "outputs": [
    {
     "name": "stdout",
     "output_type": "stream",
     "text": [
      "(80000, 7)\n",
      "(20000, 7)\n"
     ]
    },
    {
     "data": {
      "text/plain": [
       "(None, None)"
      ]
     },
     "execution_count": 3,
     "metadata": {},
     "output_type": "execute_result"
    }
   ],
   "source": [
    "path = r\"C:\\Users\\USER\\.cache\\kagglehub\\datasets\\jessicali9530\\kuc-hackathon-winter-2018\\versions\\2\"\n",
    "\n",
    "train_path = os.path.join(path, 'drugsComTrain_raw.csv')\n",
    "test_path = os.path.join(path, 'drugsComTest_raw.csv')\n",
    "\n",
    "train_data = pd.read_csv(train_path, nrows=80000)\n",
    "test_data = pd.read_csv(test_path, nrows=20000)\n",
    "\n",
    "print(train_data.shape), print(test_data.shape)"
   ]
  },
  {
   "cell_type": "code",
   "execution_count": 5,
   "id": "b3dcc7a0",
   "metadata": {},
   "outputs": [],
   "source": [
    "train_data.to_csv('../data/train.csv', index=False)\n",
    "test_data.to_csv('../data/test.csv', index=False)"
   ]
  }
 ],
 "metadata": {
  "kernelspec": {
   "display_name": "base",
   "language": "python",
   "name": "python3"
  },
  "language_info": {
   "codemirror_mode": {
    "name": "ipython",
    "version": 3
   },
   "file_extension": ".py",
   "mimetype": "text/x-python",
   "name": "python",
   "nbconvert_exporter": "python",
   "pygments_lexer": "ipython3",
   "version": "3.12.4"
  }
 },
 "nbformat": 4,
 "nbformat_minor": 5
}
