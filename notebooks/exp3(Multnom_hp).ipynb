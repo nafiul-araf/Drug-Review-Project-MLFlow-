{
 "cells": [
  {
   "cell_type": "code",
   "execution_count": 6,
   "id": "188694a5",
   "metadata": {},
   "outputs": [
    {
     "name": "stderr",
     "output_type": "stream",
     "text": [
      "[nltk_data] Downloading package stopwords to\n",
      "[nltk_data]     C:\\Users\\USER\\AppData\\Roaming\\nltk_data...\n",
      "[nltk_data]   Package stopwords is already up-to-date!\n",
      "[nltk_data] Downloading package punkt to\n",
      "[nltk_data]     C:\\Users\\USER\\AppData\\Roaming\\nltk_data...\n",
      "[nltk_data]   Package punkt is already up-to-date!\n",
      "[nltk_data] Downloading package punkt_tab to\n",
      "[nltk_data]     C:\\Users\\USER\\AppData\\Roaming\\nltk_data...\n",
      "[nltk_data]   Package punkt_tab is already up-to-date!\n"
     ]
    },
    {
     "data": {
      "text/plain": [
       "True"
      ]
     },
     "execution_count": 6,
     "metadata": {},
     "output_type": "execute_result"
    }
   ],
   "source": [
    "import mlflow\n",
    "import logging\n",
    "import time\n",
    "import pandas as pd\n",
    "import mlflow.sklearn as ms\n",
    "import dagshub\n",
    "from sklearn.feature_extraction.text import CountVectorizer\n",
    "from sklearn.model_selection import train_test_split, GridSearchCV\n",
    "from sklearn.naive_bayes import MultinomialNB\n",
    "from sklearn.metrics import accuracy_score, precision_score, recall_score, f1_score, confusion_matrix\n",
    "import pandas as pd\n",
    "import matplotlib.pyplot as plt \n",
    "import seaborn as sns\n",
    "import string\n",
    "import nltk\n",
    "from nltk.corpus import stopwords\n",
    "from nltk.stem import PorterStemmer\n",
    "import numpy as np\n",
    "\n",
    "import warnings\n",
    "warnings.simplefilter(\"ignore\", UserWarning)\n",
    "warnings.filterwarnings(\"ignore\")\n",
    "\n",
    "nltk.download('stopwords')\n",
    "nltk.download('punkt')\n",
    "nltk.download('punkt_tab')"
   ]
  },
  {
   "cell_type": "code",
   "execution_count": 7,
   "id": "2081c427",
   "metadata": {},
   "outputs": [
    {
     "data": {
      "text/html": [
       "<pre style=\"white-space:pre;overflow-x:auto;line-height:normal;font-family:Menlo,'DejaVu Sans Mono',consolas,'Courier New',monospace\">Initialized MLflow to track repo <span style=\"color: #008000; text-decoration-color: #008000\">\"nafiul-araf/Drug-Review-Project-MLFlow-\"</span>\n",
       "</pre>\n"
      ],
      "text/plain": [
       "Initialized MLflow to track repo \u001b[32m\"nafiul-araf/Drug-Review-Project-MLFlow-\"\u001b[0m\n"
      ]
     },
     "metadata": {},
     "output_type": "display_data"
    },
    {
     "data": {
      "text/html": [
       "<pre style=\"white-space:pre;overflow-x:auto;line-height:normal;font-family:Menlo,'DejaVu Sans Mono',consolas,'Courier New',monospace\">Repository nafiul-araf/Drug-Review-Project-MLFlow- initialized!\n",
       "</pre>\n"
      ],
      "text/plain": [
       "Repository nafiul-araf/Drug-Review-Project-MLFlow- initialized!\n"
      ]
     },
     "metadata": {},
     "output_type": "display_data"
    },
    {
     "data": {
      "text/plain": [
       "<Experiment: artifact_location='mlflow-artifacts:/49067400acff453fa2fa131cb36bd956', creation_time=1746873363299, experiment_id='2', last_update_time=1746873363299, lifecycle_stage='active', name='Hyperparameter Tuning with MultinomialNB', tags={}>"
      ]
     },
     "execution_count": 7,
     "metadata": {},
     "output_type": "execute_result"
    }
   ],
   "source": [
    "mlflow.set_tracking_uri('https://dagshub.com/nafiul-araf/Drug-Review-Project-MLFlow-.mlflow')\n",
    "\n",
    "dagshub.init(repo_owner='nafiul-araf', repo_name='Drug-Review-Project-MLFlow-', mlflow=True)\n",
    "\n",
    "mlflow.set_experiment('Hyperparameter Tuning with MultinomialNB')"
   ]
  },
  {
   "cell_type": "code",
   "execution_count": null,
   "id": "3a956fe1",
   "metadata": {},
   "outputs": [],
   "source": [
    "def transform_text(text):\n",
    "    \"Transform the text by text lowering, tokenizing, removing special characters, stopwords, punctuations and stemming.\"\n",
    "    \n",
    "    # Lower case the text\n",
    "    text = text.lower()\n",
    "\n",
    "    # Tokenize the text\n",
    "    text = nltk.word_tokenize(text)\n",
    "\n",
    "    # Remove special characters\n",
    "    text = [word for word in text if word.isalnum()]\n",
    "\n",
    "    # Remove stopwords and punctuations\n",
    "    text = [word for word in text if word not in stopwords.words('english') and word not in string.punctuation]\n",
    "\n",
    "    # Stemming the texts\n",
    "    ps = PorterStemmer()\n",
    "    text = [ps.stem(word) for word in text]\n",
    "\n",
    "    # Join the tokens back into a single string\n",
    "    return ' '.join(text)\n",
    "\n",
    "def load_data(file_path):\n",
    "    try:\n",
    "        df = pd.read_csv(file_path)\n",
    "        df = df[['review', 'rating']]\n",
    "        df.loc[:, 'review'] = df['review'].apply(transform_text)\n",
    "        df['rating'] = df['rating'].map({'positive': 1, 'negative': 0}).infer_objects(copy=False)\n",
    "        df = df.drop_duplicates()\n",
    "        df = df.reset_index(drop=True)\n",
    "        return df\n",
    "    except Exception as e:\n",
    "        print(f\"Error loading data: {e}\")\n",
    "        raise\n",
    "\n",
    "def preprocess():\n",
    "    data = load_data('data.csv')\n",
    "    vectorizer = CountVectorizer()\n",
    "    X = vectorizer.fit_transform(data['review'])\n",
    "    y = data['rating']\n",
    "    X_train, X_test, y_train, y_test = train_test_split(X, y, test_size=0.25, random_state=42)\n",
    "    \n",
    "    return X_train, X_test, y_train, y_test, vectorizer"
   ]
  },
  {
   "cell_type": "code",
   "execution_count": 9,
   "id": "df1486cf",
   "metadata": {},
   "outputs": [
    {
     "name": "stdout",
     "output_type": "stream",
     "text": [
      "Params: {'alpha': 0.01, 'fit_prior': True} | Accuracy: 0.7225 | F1: 0.8034\n"
     ]
    },
    {
     "name": "stderr",
     "output_type": "stream",
     "text": [
      "2025/05/11 12:35:22 INFO mlflow.tracking._tracking_service.client: 🏃 View run MultinomialNB with params: {'alpha': 0.01, 'fit_prior': True} at: https://dagshub.com/nafiul-araf/Drug-Review-Project-MLFlow-.mlflow/#/experiments/2/runs/bef0a2d66234445286ecb12af6c4fe98.\n",
      "2025/05/11 12:35:22 INFO mlflow.tracking._tracking_service.client: 🧪 View experiment at: https://dagshub.com/nafiul-araf/Drug-Review-Project-MLFlow-.mlflow/#/experiments/2.\n"
     ]
    },
    {
     "name": "stdout",
     "output_type": "stream",
     "text": [
      "Params: {'alpha': 0.01, 'fit_prior': False} | Accuracy: 0.7120 | F1: 0.7886\n"
     ]
    },
    {
     "name": "stderr",
     "output_type": "stream",
     "text": [
      "2025/05/11 12:35:24 INFO mlflow.tracking._tracking_service.client: 🏃 View run MultinomialNB with params: {'alpha': 0.01, 'fit_prior': False} at: https://dagshub.com/nafiul-araf/Drug-Review-Project-MLFlow-.mlflow/#/experiments/2/runs/cb5b30c82b504bd5b560fc46d00a829a.\n",
      "2025/05/11 12:35:24 INFO mlflow.tracking._tracking_service.client: 🧪 View experiment at: https://dagshub.com/nafiul-araf/Drug-Review-Project-MLFlow-.mlflow/#/experiments/2.\n"
     ]
    },
    {
     "name": "stdout",
     "output_type": "stream",
     "text": [
      "Params: {'alpha': 0.1, 'fit_prior': True} | Accuracy: 0.7290 | F1: 0.8060\n"
     ]
    },
    {
     "name": "stderr",
     "output_type": "stream",
     "text": [
      "2025/05/11 12:35:26 INFO mlflow.tracking._tracking_service.client: 🏃 View run MultinomialNB with params: {'alpha': 0.1, 'fit_prior': True} at: https://dagshub.com/nafiul-araf/Drug-Review-Project-MLFlow-.mlflow/#/experiments/2/runs/4c253cffd37b4b498e374b3c1f58f61c.\n",
      "2025/05/11 12:35:26 INFO mlflow.tracking._tracking_service.client: 🧪 View experiment at: https://dagshub.com/nafiul-araf/Drug-Review-Project-MLFlow-.mlflow/#/experiments/2.\n"
     ]
    },
    {
     "name": "stdout",
     "output_type": "stream",
     "text": [
      "Params: {'alpha': 0.1, 'fit_prior': False} | Accuracy: 0.7071 | F1: 0.7801\n"
     ]
    },
    {
     "name": "stderr",
     "output_type": "stream",
     "text": [
      "2025/05/11 12:35:28 INFO mlflow.tracking._tracking_service.client: 🏃 View run MultinomialNB with params: {'alpha': 0.1, 'fit_prior': False} at: https://dagshub.com/nafiul-araf/Drug-Review-Project-MLFlow-.mlflow/#/experiments/2/runs/a330e3f0dcc24f268ab68b936c2ba861.\n",
      "2025/05/11 12:35:28 INFO mlflow.tracking._tracking_service.client: 🧪 View experiment at: https://dagshub.com/nafiul-araf/Drug-Review-Project-MLFlow-.mlflow/#/experiments/2.\n"
     ]
    },
    {
     "name": "stdout",
     "output_type": "stream",
     "text": [
      "Params: {'alpha': 0.5, 'fit_prior': True} | Accuracy: 0.7476 | F1: 0.8205\n"
     ]
    },
    {
     "name": "stderr",
     "output_type": "stream",
     "text": [
      "2025/05/11 12:35:33 INFO mlflow.tracking._tracking_service.client: 🏃 View run MultinomialNB with params: {'alpha': 0.5, 'fit_prior': True} at: https://dagshub.com/nafiul-araf/Drug-Review-Project-MLFlow-.mlflow/#/experiments/2/runs/4a2845062a5b4807b111c78a03e32b49.\n",
      "2025/05/11 12:35:33 INFO mlflow.tracking._tracking_service.client: 🧪 View experiment at: https://dagshub.com/nafiul-araf/Drug-Review-Project-MLFlow-.mlflow/#/experiments/2.\n"
     ]
    },
    {
     "name": "stdout",
     "output_type": "stream",
     "text": [
      "Params: {'alpha': 0.5, 'fit_prior': False} | Accuracy: 0.7233 | F1: 0.7932\n"
     ]
    },
    {
     "name": "stderr",
     "output_type": "stream",
     "text": [
      "2025/05/11 12:35:38 INFO mlflow.tracking._tracking_service.client: 🏃 View run MultinomialNB with params: {'alpha': 0.5, 'fit_prior': False} at: https://dagshub.com/nafiul-araf/Drug-Review-Project-MLFlow-.mlflow/#/experiments/2/runs/5a370d6e1ba54a33821072f4e8ceb5e3.\n",
      "2025/05/11 12:35:38 INFO mlflow.tracking._tracking_service.client: 🧪 View experiment at: https://dagshub.com/nafiul-araf/Drug-Review-Project-MLFlow-.mlflow/#/experiments/2.\n"
     ]
    },
    {
     "name": "stdout",
     "output_type": "stream",
     "text": [
      "Params: {'alpha': 1.0, 'fit_prior': True} | Accuracy: 0.7775 | F1: 0.8491\n"
     ]
    },
    {
     "name": "stderr",
     "output_type": "stream",
     "text": [
      "2025/05/11 12:35:43 INFO mlflow.tracking._tracking_service.client: 🏃 View run MultinomialNB with params: {'alpha': 1.0, 'fit_prior': True} at: https://dagshub.com/nafiul-araf/Drug-Review-Project-MLFlow-.mlflow/#/experiments/2/runs/50922f479e5747e08c27263dd73ac9c8.\n",
      "2025/05/11 12:35:43 INFO mlflow.tracking._tracking_service.client: 🧪 View experiment at: https://dagshub.com/nafiul-araf/Drug-Review-Project-MLFlow-.mlflow/#/experiments/2.\n"
     ]
    },
    {
     "name": "stdout",
     "output_type": "stream",
     "text": [
      "Params: {'alpha': 1.0, 'fit_prior': False} | Accuracy: 0.7605 | F1: 0.8293\n"
     ]
    },
    {
     "name": "stderr",
     "output_type": "stream",
     "text": [
      "2025/05/11 12:35:48 INFO mlflow.tracking._tracking_service.client: 🏃 View run MultinomialNB with params: {'alpha': 1.0, 'fit_prior': False} at: https://dagshub.com/nafiul-araf/Drug-Review-Project-MLFlow-.mlflow/#/experiments/2/runs/d776cab84b6c4d7a99fc1eb6dee3a389.\n",
      "2025/05/11 12:35:48 INFO mlflow.tracking._tracking_service.client: 🧪 View experiment at: https://dagshub.com/nafiul-araf/Drug-Review-Project-MLFlow-.mlflow/#/experiments/2.\n"
     ]
    },
    {
     "name": "stdout",
     "output_type": "stream",
     "text": [
      "Params: {'alpha': 2.0, 'fit_prior': True} | Accuracy: 0.7743 | F1: 0.8554\n"
     ]
    },
    {
     "name": "stderr",
     "output_type": "stream",
     "text": [
      "2025/05/11 12:35:53 INFO mlflow.tracking._tracking_service.client: 🏃 View run MultinomialNB with params: {'alpha': 2.0, 'fit_prior': True} at: https://dagshub.com/nafiul-araf/Drug-Review-Project-MLFlow-.mlflow/#/experiments/2/runs/459511f06941496e8a95da2867c44d1b.\n",
      "2025/05/11 12:35:53 INFO mlflow.tracking._tracking_service.client: 🧪 View experiment at: https://dagshub.com/nafiul-araf/Drug-Review-Project-MLFlow-.mlflow/#/experiments/2.\n"
     ]
    },
    {
     "name": "stdout",
     "output_type": "stream",
     "text": [
      "Params: {'alpha': 2.0, 'fit_prior': False} | Accuracy: 0.7832 | F1: 0.8561\n"
     ]
    },
    {
     "name": "stderr",
     "output_type": "stream",
     "text": [
      "2025/05/11 12:35:58 INFO mlflow.tracking._tracking_service.client: 🏃 View run MultinomialNB with params: {'alpha': 2.0, 'fit_prior': False} at: https://dagshub.com/nafiul-araf/Drug-Review-Project-MLFlow-.mlflow/#/experiments/2/runs/5e38edd8d4db4c599a04ffe626a51165.\n",
      "2025/05/11 12:35:58 INFO mlflow.tracking._tracking_service.client: 🧪 View experiment at: https://dagshub.com/nafiul-araf/Drug-Review-Project-MLFlow-.mlflow/#/experiments/2.\n"
     ]
    },
    {
     "name": "stdout",
     "output_type": "stream",
     "text": [
      "Params: {'alpha': 5.0, 'fit_prior': True} | Accuracy: 0.7338 | F1: 0.8418\n"
     ]
    },
    {
     "name": "stderr",
     "output_type": "stream",
     "text": [
      "2025/05/11 12:36:03 INFO mlflow.tracking._tracking_service.client: 🏃 View run MultinomialNB with params: {'alpha': 5.0, 'fit_prior': True} at: https://dagshub.com/nafiul-araf/Drug-Review-Project-MLFlow-.mlflow/#/experiments/2/runs/daaf3987226647ecbf7044939971980d.\n",
      "2025/05/11 12:36:03 INFO mlflow.tracking._tracking_service.client: 🧪 View experiment at: https://dagshub.com/nafiul-araf/Drug-Review-Project-MLFlow-.mlflow/#/experiments/2.\n"
     ]
    },
    {
     "name": "stdout",
     "output_type": "stream",
     "text": [
      "Params: {'alpha': 5.0, 'fit_prior': False} | Accuracy: 0.7346 | F1: 0.8402\n"
     ]
    },
    {
     "name": "stderr",
     "output_type": "stream",
     "text": [
      "2025/05/11 12:36:08 INFO mlflow.tracking._tracking_service.client: 🏃 View run MultinomialNB with params: {'alpha': 5.0, 'fit_prior': False} at: https://dagshub.com/nafiul-araf/Drug-Review-Project-MLFlow-.mlflow/#/experiments/2/runs/1467f75f5eab44e2b17a1f732a919f82.\n",
      "2025/05/11 12:36:08 INFO mlflow.tracking._tracking_service.client: 🧪 View experiment at: https://dagshub.com/nafiul-araf/Drug-Review-Project-MLFlow-.mlflow/#/experiments/2.\n",
      "2025/05/11 12:36:23 WARNING mlflow.models.model: Input example should be provided to infer model signature if the model signature is not provided when logging the model.\n"
     ]
    },
    {
     "name": "stdout",
     "output_type": "stream",
     "text": [
      "\n",
      "Best Params: {'alpha': 2.0, 'fit_prior': True} | Best F1 Score: 0.8393\n"
     ]
    },
    {
     "name": "stderr",
     "output_type": "stream",
     "text": [
      "2025/05/11 12:36:24 INFO mlflow.tracking._tracking_service.client: 🏃 View run honorable-koi-675 at: https://dagshub.com/nafiul-araf/Drug-Review-Project-MLFlow-.mlflow/#/experiments/2/runs/ea794947c2c14de6b2ed1d4ef07258d2.\n",
      "2025/05/11 12:36:24 INFO mlflow.tracking._tracking_service.client: 🧪 View experiment at: https://dagshub.com/nafiul-araf/Drug-Review-Project-MLFlow-.mlflow/#/experiments/2.\n"
     ]
    },
    {
     "data": {
      "image/png": "[encoded data removed]",
      "text/plain": [
       "<Figure size 1000x600 with 2 Axes>"
      ]
     },
     "metadata": {},
     "output_type": "display_data"
    }
   ],
   "source": [
    "def train_and_log_data(X_train, X_test, y_train, y_test, vectorizer):\n",
    "    \"\"\"Trains a Multinomial Naive Bayes model with GridSearch and logs results to MLflow.\"\"\"\n",
    "    \n",
    "    params_grid = {\n",
    "    'alpha': [0.01, 0.1, 0.5, 1.0, 2.0, 5.0],\n",
    "    'fit_prior': [True, False]\n",
    "    }\n",
    "\n",
    "    with mlflow.start_run():\n",
    "        grid_search = GridSearchCV(MultinomialNB(), params_grid, cv=5, scoring=\"f1\", n_jobs=-1)\n",
    "        grid_search.fit(X_train, y_train)\n",
    "\n",
    "        # Log all hyperparameter tuning runs\n",
    "        for params, mean_score, std_score in zip(grid_search.cv_results_[\"params\"], \n",
    "                                                 grid_search.cv_results_[\"mean_test_score\"], \n",
    "                                                 grid_search.cv_results_[\"std_test_score\"]):\n",
    "            with mlflow.start_run(run_name=f\"MultinomialNB with params: {params}\", nested=True):\n",
    "                model = MultinomialNB(**params)\n",
    "                model.fit(X_train, y_train)\n",
    "                \n",
    "                y_pred = model.predict(X_test)\n",
    "                \n",
    "                metrics = {\n",
    "                    \"accuracy\": accuracy_score(y_test, y_pred),\n",
    "                    \"precision\": precision_score(y_test, y_pred),\n",
    "                    \"recall\": recall_score(y_test, y_pred),\n",
    "                    \"f1_score\": f1_score(y_test, y_pred),\n",
    "                    \"mean_cv_score\": mean_score,\n",
    "                    \"std_cv_score\": std_score\n",
    "                }\n",
    "                \n",
    "                # Log parameters & metrics\n",
    "                mlflow.log_params(params)\n",
    "                mlflow.log_metrics(metrics)\n",
    "                \n",
    "                print(f\"Params: {params} | Accuracy: {metrics['accuracy']:.4f} | F1: {metrics['f1_score']:.4f}\")\n",
    "\n",
    "        # Log the best model\n",
    "        best_params = grid_search.best_params_\n",
    "        best_model = grid_search.best_estimator_\n",
    "        best_f1 = grid_search.best_score_\n",
    "        pred_y = best_model.predict(X_test)\n",
    "        cm = confusion_matrix(y_test, pred_y)\n",
    "        plt.figure(figsize=(10, 6))\n",
    "        sns.heatmap(cm, annot=True, fmt='d', cmap='Blues', xticklabels=['negative', 'positive'], yticklabels=['negative', 'positive'])\n",
    "        plt.xlabel('Predicted')\n",
    "        plt.ylabel('Actual')\n",
    "        plt.title('Confusion Matrix')\n",
    "        plt.savefig('confusion_matrix.png')\n",
    "\n",
    "        \n",
    "        mlflow.log_artifact('confusion_matrix.png')\n",
    "        mlflow.log_params(best_params)\n",
    "        mlflow.log_metric(\"best_f1_score\", best_f1)\n",
    "        mlflow.sklearn.log_model(best_model, \"model\")\n",
    "        \n",
    "        print(f\"\\nBest Params: {best_params} | Best F1 Score: {best_f1:.4f}\")\n",
    "\n",
    "# ==========================\n",
    "# Main Execution\n",
    "# ==========================    \n",
    "\n",
    "if __name__ == \"__main__\":\n",
    "    X_train, X_test, y_train, y_test, vectorizer = preprocess()\n",
    "    train_and_log_data(X_train, X_test, y_train, y_test, vectorizer)"
   ]
  },
  {
   "cell_type": "code",
   "execution_count": null,
   "id": "3c3c6c73",
   "metadata": {},
   "outputs": [],
   "source": []
  }
 ],
 "metadata": {
  "kernelspec": {
   "display_name": "Python 3",
   "language": "python",
   "name": "python3"
  },
  "language_info": {
   "codemirror_mode": {
    "name": "ipython",
    "version": 3
   },
   "file_extension": ".py",
   "mimetype": "text/x-python",
   "name": "python",
   "nbconvert_exporter": "python",
   "pygments_lexer": "ipython3",
   "version": "3.10.16"
  }
 },
 "nbformat": 4,
 "nbformat_minor": 5
}
