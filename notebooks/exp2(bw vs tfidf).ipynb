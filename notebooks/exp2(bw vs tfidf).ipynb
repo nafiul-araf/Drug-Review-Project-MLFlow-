{
 "cells": [
  {
   "cell_type": "code",
   "execution_count": 1,
   "id": "4ee3168e",
   "metadata": {},
   "outputs": [
    {
     "name": "stderr",
     "output_type": "stream",
     "text": [
      "[nltk_data] Downloading package stopwords to\n",
      "[nltk_data]     C:\\Users\\USER\\AppData\\Roaming\\nltk_data...\n",
      "[nltk_data]   Package stopwords is already up-to-date!\n",
      "[nltk_data] Downloading package punkt to\n",
      "[nltk_data]     C:\\Users\\USER\\AppData\\Roaming\\nltk_data...\n",
      "[nltk_data]   Package punkt is already up-to-date!\n",
      "[nltk_data] Downloading package punkt_tab to\n",
      "[nltk_data]     C:\\Users\\USER\\AppData\\Roaming\\nltk_data...\n",
      "[nltk_data]   Package punkt_tab is already up-to-date!\n"
     ]
    },
    {
     "data": {
      "text/plain": [
       "True"
      ]
     },
     "execution_count": 1,
     "metadata": {},
     "output_type": "execute_result"
    }
   ],
   "source": [
    "import setuptools\n",
    "import mlflow\n",
    "import logging\n",
    "import time\n",
    "import pandas as pd\n",
    "pd.set_option('future.no_silent_downcasting', True)\n",
    "\n",
    "import dagshub\n",
    "import mlflow.sklearn as ms\n",
    "from sklearn.feature_extraction.text import CountVectorizer, TfidfVectorizer\n",
    "from sklearn.model_selection import train_test_split\n",
    "from sklearn.linear_model import LogisticRegression, PassiveAggressiveClassifier\n",
    "from sklearn.naive_bayes import MultinomialNB\n",
    "from xgboost import XGBClassifier\n",
    "from sklearn.ensemble import RandomForestClassifier\n",
    "from sklearn.metrics import accuracy_score, precision_score, recall_score, f1_score\n",
    "import pandas as pd\n",
    "import string\n",
    "import nltk\n",
    "from nltk.corpus import stopwords\n",
    "from nltk.stem import PorterStemmer\n",
    "import numpy as np\n",
    "import scipy.sparse as ss\n",
    "import warnings\n",
    "warnings.simplefilter(\"ignore\", UserWarning)\n",
    "warnings.filterwarnings(\"ignore\")\n",
    "\n",
    "nltk.download('stopwords')\n",
    "nltk.download('punkt')\n",
    "nltk.download('punkt_tab')"
   ]
  },
  {
   "cell_type": "code",
   "execution_count": 9,
   "id": "738907f4",
   "metadata": {},
   "outputs": [],
   "source": [
    "# ========================== CONFIGURATION ==========================\n",
    "CONFIG = {\n",
    "    \"data_path\": r\"F:\\MLOps Projects\\Drug-Review-Project-MLFlow-\\notebooks\\data.csv\",\n",
    "    \"test_size\": 0.25,\n",
    "    \"mlflow_tracking_uri\": \"https://dagshub.com/nafiul-araf/Drug-Review-Project-MLFlow-.mlflow\",\n",
    "    \"dagshub_repo_owner\": \"nafiul-araf\",\n",
    "    \"dagshub_repo_name\": \"Drug-Review-Project-MLFlow-\",\n",
    "    \"experiment_name\": \"BoW vs TF-IDF\"\n",
    "}\n",
    "\n",
    "\n",
    "# ========================== FEATURE ENGINEERING ==========================\n",
    "VECTORIZERS = {\n",
    "    'BoW': CountVectorizer(),\n",
    "    'TF-IDF': TfidfVectorizer()\n",
    "}\n",
    "\n",
    "\n",
    "# ========================== ALGORITHMS ==========================\n",
    "ALGORITHMS = {\n",
    "    'LogisticRegression': LogisticRegression(),\n",
    "    'PassiveAggressiveClassifier': PassiveAggressiveClassifier(),\n",
    "    'MultinomialNB': MultinomialNB(),\n",
    "    'XGBoost': XGBClassifier(),\n",
    "    'RandomForest': RandomForestClassifier()\n",
    "}"
   ]
  },
  {
   "cell_type": "code",
   "execution_count": 3,
   "id": "577908aa",
   "metadata": {},
   "outputs": [
    {
     "data": {
      "text/html": [
       "<pre style=\"white-space:pre;overflow-x:auto;line-height:normal;font-family:Menlo,'DejaVu Sans Mono',consolas,'Courier New',monospace\">Accessing as nafiul-araf\n",
       "</pre>\n"
      ],
      "text/plain": [
       "Accessing as nafiul-araf\n"
      ]
     },
     "metadata": {},
     "output_type": "display_data"
    },
    {
     "data": {
      "text/html": [
       "<pre style=\"white-space:pre;overflow-x:auto;line-height:normal;font-family:Menlo,'DejaVu Sans Mono',consolas,'Courier New',monospace\">Initialized MLflow to track repo <span style=\"color: #008000; text-decoration-color: #008000\">\"nafiul-araf/Drug-Review-Project-MLFlow-\"</span>\n",
       "</pre>\n"
      ],
      "text/plain": [
       "Initialized MLflow to track repo \u001b[32m\"nafiul-araf/Drug-Review-Project-MLFlow-\"\u001b[0m\n"
      ]
     },
     "metadata": {},
     "output_type": "display_data"
    },
    {
     "data": {
      "text/html": [
       "<pre style=\"white-space:pre;overflow-x:auto;line-height:normal;font-family:Menlo,'DejaVu Sans Mono',consolas,'Courier New',monospace\">Repository nafiul-araf/Drug-Review-Project-MLFlow- initialized!\n",
       "</pre>\n"
      ],
      "text/plain": [
       "Repository nafiul-araf/Drug-Review-Project-MLFlow- initialized!\n"
      ]
     },
     "metadata": {},
     "output_type": "display_data"
    },
    {
     "data": {
      "text/plain": [
       "<Experiment: artifact_location='mlflow-artifacts:/58e077b7763e4fe2a6d5a8f0258c1224', creation_time=1746869944075, experiment_id='1', last_update_time=1746869944075, lifecycle_stage='active', name='BoW vs TF-IDF', tags={}>"
      ]
     },
     "execution_count": 3,
     "metadata": {},
     "output_type": "execute_result"
    }
   ],
   "source": [
    "mlflow.set_tracking_uri(CONFIG[\"mlflow_tracking_uri\"])\n",
    "\n",
    "dagshub.init(repo_owner=CONFIG[\"dagshub_repo_owner\"], repo_name=CONFIG[\"dagshub_repo_name\"], mlflow=True)\n",
    "\n",
    "mlflow.set_experiment(CONFIG[\"experiment_name\"])"
   ]
  },
  {
   "cell_type": "code",
   "execution_count": 4,
   "id": "a0044432",
   "metadata": {},
   "outputs": [],
   "source": [
    "def transform_text(text):\n",
    "    \"Transform the text by text lowering, tokenizing, removing special characters, stopwords, punctuations and stemming.\"\n",
    "    \n",
    "    # Lower case the text\n",
    "    text = text.lower()\n",
    "\n",
    "    # Tokenize the text\n",
    "    text = nltk.word_tokenize(text)\n",
    "\n",
    "    # Remove special characters\n",
    "    text = [word for word in text if word.isalnum()]\n",
    "\n",
    "    # Remove stopwords and punctuations\n",
    "    text = [word for word in text if word not in stopwords.words('english') and word not in string.punctuation]\n",
    "\n",
    "    # Stemming the texts\n",
    "    ps = PorterStemmer()\n",
    "    text = [ps.stem(word) for word in text]\n",
    "\n",
    "    # Join the tokens back into a single string\n",
    "    return ' '.join(text)"
   ]
  },
  {
   "cell_type": "code",
   "execution_count": 5,
   "id": "508795ed",
   "metadata": {},
   "outputs": [],
   "source": [
    "def load_data(file_path):\n",
    "    try:\n",
    "        df = pd.read_csv(file_path)\n",
    "        df = df[['review', 'rating']]\n",
    "        df.loc[:, 'review'] = df['review'].apply(transform_text)\n",
    "        df['rating'] = df['rating'].map({'positive': 1, 'negative': 0}).infer_objects(copy=False)\n",
    "        df = df.drop_duplicates()\n",
    "        df = df.reset_index(drop=True)\n",
    "        return df\n",
    "    except Exception as e:\n",
    "        print(f\"Error loading data: {e}\")\n",
    "        raise"
   ]
  },
  {
   "cell_type": "code",
   "execution_count": 10,
   "id": "650c186d",
   "metadata": {},
   "outputs": [
    {
     "name": "stderr",
     "output_type": "stream",
     "text": [
      "Downloading artifacts: 100%|██████████| 7/7 [00:01<00:00,  4.07it/s]\n"
     ]
    },
    {
     "name": "stdout",
     "output_type": "stream",
     "text": [
      "\n",
      "Algorithm: LogisticRegression, Vectorizer: BoW\n",
      "Metrics: {'accuracy': 0.7799352750809061, 'precision': 0.8377777777777777, 'recall': 0.8568181818181818, 'f1_score': 0.8471910112359551}\n"
     ]
    },
    {
     "name": "stderr",
     "output_type": "stream",
     "text": [
      "2025/05/10 16:01:34 INFO mlflow.tracking._tracking_service.client: 🏃 View run LogisticRegression with BoW at: https://dagshub.com/nafiul-araf/Drug-Review-Project-MLFlow-.mlflow/#/experiments/1/runs/54d4e3c34e83434da910109d10a4af0c.\n",
      "2025/05/10 16:01:34 INFO mlflow.tracking._tracking_service.client: 🧪 View experiment at: https://dagshub.com/nafiul-araf/Drug-Review-Project-MLFlow-.mlflow/#/experiments/1.\n",
      "Downloading artifacts: 100%|██████████| 7/7 [00:03<00:00,  1.77it/s]\n"
     ]
    },
    {
     "name": "stdout",
     "output_type": "stream",
     "text": [
      "\n",
      "Algorithm: LogisticRegression, Vectorizer: TF-IDF\n",
      "Metrics: {'accuracy': 0.7961165048543689, 'precision': 0.7934579439252336, 'recall': 0.9647727272727272, 'f1_score': 0.8707692307692307}\n"
     ]
    },
    {
     "name": "stderr",
     "output_type": "stream",
     "text": [
      "2025/05/10 16:01:56 INFO mlflow.tracking._tracking_service.client: 🏃 View run LogisticRegression with TF-IDF at: https://dagshub.com/nafiul-araf/Drug-Review-Project-MLFlow-.mlflow/#/experiments/1/runs/6f4df571ae9b42cf96f97d77d9ef14fc.\n",
      "2025/05/10 16:01:56 INFO mlflow.tracking._tracking_service.client: 🧪 View experiment at: https://dagshub.com/nafiul-araf/Drug-Review-Project-MLFlow-.mlflow/#/experiments/1.\n",
      "Downloading artifacts: 100%|██████████| 7/7 [00:03<00:00,  1.78it/s]\n"
     ]
    },
    {
     "name": "stdout",
     "output_type": "stream",
     "text": [
      "\n",
      "Algorithm: PassiveAggressiveClassifier, Vectorizer: BoW\n",
      "Metrics: {'accuracy': 0.7378640776699029, 'precision': 0.8278301886792453, 'recall': 0.7977272727272727, 'f1_score': 0.8125}\n"
     ]
    },
    {
     "name": "stderr",
     "output_type": "stream",
     "text": [
      "2025/05/10 16:02:22 INFO mlflow.tracking._tracking_service.client: 🏃 View run PassiveAggressiveClassifier with BoW at: https://dagshub.com/nafiul-araf/Drug-Review-Project-MLFlow-.mlflow/#/experiments/1/runs/ddc1cd0444df458cb929ce7ba427a9eb.\n",
      "2025/05/10 16:02:22 INFO mlflow.tracking._tracking_service.client: 🧪 View experiment at: https://dagshub.com/nafiul-araf/Drug-Review-Project-MLFlow-.mlflow/#/experiments/1.\n",
      "Downloading artifacts: 100%|██████████| 7/7 [00:01<00:00,  4.51it/s]\n"
     ]
    },
    {
     "name": "stdout",
     "output_type": "stream",
     "text": [
      "\n",
      "Algorithm: PassiveAggressiveClassifier, Vectorizer: TF-IDF\n",
      "Metrics: {'accuracy': 0.7491909385113269, 'precision': 0.8238636363636364, 'recall': 0.8238636363636364, 'f1_score': 0.8238636363636364}\n"
     ]
    },
    {
     "name": "stderr",
     "output_type": "stream",
     "text": [
      "2025/05/10 16:02:49 INFO mlflow.tracking._tracking_service.client: 🏃 View run PassiveAggressiveClassifier with TF-IDF at: https://dagshub.com/nafiul-araf/Drug-Review-Project-MLFlow-.mlflow/#/experiments/1/runs/fbbdee33aeed47b7873e54f76ae149e8.\n",
      "2025/05/10 16:02:49 INFO mlflow.tracking._tracking_service.client: 🧪 View experiment at: https://dagshub.com/nafiul-araf/Drug-Review-Project-MLFlow-.mlflow/#/experiments/1.\n",
      "Downloading artifacts: 100%|██████████| 7/7 [00:01<00:00,  4.10it/s]\n"
     ]
    },
    {
     "name": "stdout",
     "output_type": "stream",
     "text": [
      "\n",
      "Algorithm: MultinomialNB, Vectorizer: BoW\n",
      "Metrics: {'accuracy': 0.7775080906148867, 'precision': 0.8207847295864263, 'recall': 0.8795454545454545, 'f1_score': 0.8491497531541415}\n"
     ]
    },
    {
     "name": "stderr",
     "output_type": "stream",
     "text": [
      "2025/05/10 16:03:16 INFO mlflow.tracking._tracking_service.client: 🏃 View run MultinomialNB with BoW at: https://dagshub.com/nafiul-araf/Drug-Review-Project-MLFlow-.mlflow/#/experiments/1/runs/42a6279e895d43ee9e768f23d292fc4f.\n",
      "2025/05/10 16:03:16 INFO mlflow.tracking._tracking_service.client: 🧪 View experiment at: https://dagshub.com/nafiul-araf/Drug-Review-Project-MLFlow-.mlflow/#/experiments/1.\n",
      "Downloading artifacts: 100%|██████████| 7/7 [00:01<00:00,  4.63it/s]\n"
     ]
    },
    {
     "name": "stdout",
     "output_type": "stream",
     "text": [
      "\n",
      "Algorithm: MultinomialNB, Vectorizer: TF-IDF\n",
      "Metrics: {'accuracy': 0.7144012944983819, 'precision': 0.7137064071370641, 'recall': 1.0, 'f1_score': 0.8329389493610979}\n"
     ]
    },
    {
     "name": "stderr",
     "output_type": "stream",
     "text": [
      "2025/05/10 16:03:42 INFO mlflow.tracking._tracking_service.client: 🏃 View run MultinomialNB with TF-IDF at: https://dagshub.com/nafiul-araf/Drug-Review-Project-MLFlow-.mlflow/#/experiments/1/runs/031500187c054b6994bc9d53f695dbc6.\n",
      "2025/05/10 16:03:42 INFO mlflow.tracking._tracking_service.client: 🧪 View experiment at: https://dagshub.com/nafiul-araf/Drug-Review-Project-MLFlow-.mlflow/#/experiments/1.\n",
      "Downloading artifacts: 100%|██████████| 7/7 [00:01<00:00,  4.91it/s]\n"
     ]
    },
    {
     "name": "stdout",
     "output_type": "stream",
     "text": [
      "\n",
      "Algorithm: XGBoost, Vectorizer: BoW\n",
      "Metrics: {'accuracy': 0.7872168284789643, 'precision': 0.8157625383828045, 'recall': 0.9056818181818181, 'f1_score': 0.8583737210554658}\n"
     ]
    },
    {
     "name": "stderr",
     "output_type": "stream",
     "text": [
      "2025/05/10 16:04:09 INFO mlflow.tracking._tracking_service.client: 🏃 View run XGBoost with BoW at: https://dagshub.com/nafiul-araf/Drug-Review-Project-MLFlow-.mlflow/#/experiments/1/runs/a065aae416ef4a40bebdec69e4d0c226.\n",
      "2025/05/10 16:04:09 INFO mlflow.tracking._tracking_service.client: 🧪 View experiment at: https://dagshub.com/nafiul-araf/Drug-Review-Project-MLFlow-.mlflow/#/experiments/1.\n",
      "Downloading artifacts: 100%|██████████| 7/7 [00:01<00:00,  4.52it/s]\n"
     ]
    },
    {
     "name": "stdout",
     "output_type": "stream",
     "text": [
      "\n",
      "Algorithm: XGBoost, Vectorizer: TF-IDF\n",
      "Metrics: {'accuracy': 0.7637540453074434, 'precision': 0.8, 'recall': 0.8909090909090909, 'f1_score': 0.843010752688172}\n"
     ]
    },
    {
     "name": "stderr",
     "output_type": "stream",
     "text": [
      "2025/05/10 16:04:42 INFO mlflow.tracking._tracking_service.client: 🏃 View run XGBoost with TF-IDF at: https://dagshub.com/nafiul-araf/Drug-Review-Project-MLFlow-.mlflow/#/experiments/1/runs/f9bf5dbcb8f84fec9de06217b2a261df.\n",
      "2025/05/10 16:04:42 INFO mlflow.tracking._tracking_service.client: 🧪 View experiment at: https://dagshub.com/nafiul-araf/Drug-Review-Project-MLFlow-.mlflow/#/experiments/1.\n",
      "Downloading artifacts: 100%|██████████| 7/7 [00:03<00:00,  1.84it/s]\n"
     ]
    },
    {
     "name": "stdout",
     "output_type": "stream",
     "text": [
      "\n",
      "Algorithm: RandomForest, Vectorizer: BoW\n",
      "Metrics: {'accuracy': 0.7653721682847896, 'precision': 0.7592267135325131, 'recall': 0.9818181818181818, 'f1_score': 0.8562933597621407}\n"
     ]
    },
    {
     "name": "stderr",
     "output_type": "stream",
     "text": [
      "2025/05/10 16:05:32 INFO mlflow.tracking._tracking_service.client: 🏃 View run RandomForest with BoW at: https://dagshub.com/nafiul-araf/Drug-Review-Project-MLFlow-.mlflow/#/experiments/1/runs/4d39ee73c8244e7bb5355ad1387d19ff.\n",
      "2025/05/10 16:05:32 INFO mlflow.tracking._tracking_service.client: 🧪 View experiment at: https://dagshub.com/nafiul-araf/Drug-Review-Project-MLFlow-.mlflow/#/experiments/1.\n",
      "Downloading artifacts: 100%|██████████| 7/7 [00:03<00:00,  1.96it/s]\n"
     ]
    },
    {
     "name": "stdout",
     "output_type": "stream",
     "text": [
      "\n",
      "Algorithm: RandomForest, Vectorizer: TF-IDF\n",
      "Metrics: {'accuracy': 0.7580906148867314, 'precision': 0.754601226993865, 'recall': 0.9784090909090909, 'f1_score': 0.8520534388916378}\n"
     ]
    },
    {
     "name": "stderr",
     "output_type": "stream",
     "text": [
      "2025/05/10 16:06:20 INFO mlflow.tracking._tracking_service.client: 🏃 View run RandomForest with TF-IDF at: https://dagshub.com/nafiul-araf/Drug-Review-Project-MLFlow-.mlflow/#/experiments/1/runs/73a829cab82e47a5bc2f3133519d85b1.\n",
      "2025/05/10 16:06:20 INFO mlflow.tracking._tracking_service.client: 🧪 View experiment at: https://dagshub.com/nafiul-araf/Drug-Review-Project-MLFlow-.mlflow/#/experiments/1.\n",
      "2025/05/10 16:06:21 INFO mlflow.tracking._tracking_service.client: 🏃 View run All Experiments at: https://dagshub.com/nafiul-araf/Drug-Review-Project-MLFlow-.mlflow/#/experiments/1/runs/e10433aad4a64e509307da2e0bd7364a.\n",
      "2025/05/10 16:06:21 INFO mlflow.tracking._tracking_service.client: 🧪 View experiment at: https://dagshub.com/nafiul-araf/Drug-Review-Project-MLFlow-.mlflow/#/experiments/1.\n"
     ]
    }
   ],
   "source": [
    "def train_and_evaluate(df):\n",
    "    with mlflow.start_run(run_name=\"All Experiments\") as parent_run:\n",
    "        for algo_name, algorithm in ALGORITHMS.items():\n",
    "            for vec_name, vectorizer in VECTORIZERS.items():\n",
    "                with mlflow.start_run(run_name=f\"{algo_name} with {vec_name}\", nested=True) as child_run:\n",
    "                    try:\n",
    "                        X = vectorizer.fit_transform(df['review'])\n",
    "                        y = df['rating']\n",
    "                        X_train, X_test, y_train, y_test = train_test_split(X, y, test_size=CONFIG[\"test_size\"], random_state=42)\n",
    "                        mlflow.log_params({\n",
    "                            \"vectorizer\": vec_name,\n",
    "                            \"algorithm\": algo_name,\n",
    "                            \"test_size\": CONFIG[\"test_size\"]\n",
    "                        })\n",
    "\n",
    "                        # Train model\n",
    "                        model = algorithm\n",
    "                        model.fit(X_train, y_train)\n",
    "\n",
    "                        # Log model parameters\n",
    "                        log_model_params(algo_name, model)\n",
    "\n",
    "                        mlflow.log_metric('training accuarcy', model.score(X_train, y_train))\n",
    "\n",
    "                        # Evaluate model\n",
    "                        y_pred = model.predict(X_test)\n",
    "                        metrics = {\n",
    "                            \"accuracy\": accuracy_score(y_test, y_pred),\n",
    "                            \"precision\": precision_score(y_test, y_pred),\n",
    "                            \"recall\": recall_score(y_test, y_pred),\n",
    "                            \"f1_score\": f1_score(y_test, y_pred)\n",
    "                        }\n",
    "                        mlflow.log_metrics(metrics)\n",
    "\n",
    "                        # Log model\n",
    "                        # mlflow.sklearn.log_model(model, \"model\")\n",
    "                        input_example = X_test[:5] if not ss.issparse(X_test) else X_test[:5].toarray()\n",
    "                        ms.log_model(model, \"model\", input_example=input_example)\n",
    "\n",
    "                        # Print results for verification\n",
    "                        print(f\"\\nAlgorithm: {algo_name}, Vectorizer: {vec_name}\")\n",
    "                        print(f\"Metrics: {metrics}\")\n",
    "\n",
    "                    except Exception as e:\n",
    "                        print(f\"Error in training {algo_name} with {vec_name}: {e}\")\n",
    "                        mlflow.log_param(\"error\", str(e))\n",
    "\n",
    "def log_model_params(algo_name, model):\n",
    "    \"\"\"Logs hyperparameters of the trained model to MLflow.\"\"\"\n",
    "    params_to_log = {}\n",
    "    if algo_name == 'LogisticRegression':\n",
    "        params_to_log[\"C\"] = model.C\n",
    "    elif algo_name == 'PassiveAggressiveClassifier':\n",
    "        params_to_log[\"C\"] = model.C\n",
    "        params_to_log[\"loss\"] = model.loss\n",
    "    elif algo_name == 'MultinomialNB':\n",
    "        params_to_log[\"alpha\"] = model.alpha\n",
    "    elif algo_name == 'XGBoost':\n",
    "        params_to_log[\"n_estimators\"] = model.n_estimators\n",
    "        params_to_log[\"learning_rate\"] = model.learning_rate\n",
    "    elif algo_name == 'RandomForest':\n",
    "        params_to_log[\"n_estimators\"] = model.n_estimators\n",
    "        params_to_log[\"max_depth\"] = model.max_depth\n",
    "\n",
    "    mlflow.log_params(params_to_log)\n",
    "\n",
    "\n",
    "# ========================== EXECUTION ==========================\n",
    "if __name__ == \"__main__\":\n",
    "    df = load_data(CONFIG[\"data_path\"])\n",
    "    train_and_evaluate(df)"
   ]
  },
  {
   "cell_type": "markdown",
   "id": "1904ab93",
   "metadata": {},
   "source": [
    "##### MultinomialNB and BoW"
   ]
  },
  {
   "cell_type": "code",
   "execution_count": null,
   "id": "8b4eb3a2",
   "metadata": {},
   "outputs": [],
   "source": []
  }
 ],
 "metadata": {
  "kernelspec": {
   "display_name": "capstone",
   "language": "python",
   "name": "python3"
  },
  "language_info": {
   "codemirror_mode": {
    "name": "ipython",
    "version": 3
   },
   "file_extension": ".py",
   "mimetype": "text/x-python",
   "name": "python",
   "nbconvert_exporter": "python",
   "pygments_lexer": "ipython3",
   "version": "3.10.16"
  }
 },
 "nbformat": 4,
 "nbformat_minor": 5
}
